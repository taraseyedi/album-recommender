{
 "cells": [
  {
   "cell_type": "code",
   "execution_count": null,
   "metadata": {},
   "outputs": [
    {
     "name": "stderr",
     "output_type": "stream",
     "text": [
      "c:\\Users\\trsey\\AppData\\Local\\Programs\\Python\\Python312\\Lib\\site-packages\\fuzzywuzzy\\fuzz.py:11: UserWarning: Using slow pure-python SequenceMatcher. Install python-Levenshtein to remove this warning\n",
      "  warnings.warn('Using slow pure-python SequenceMatcher. Install python-Levenshtein to remove this warning')\n"
     ]
    }
   ],
   "source": [
    "import pandas as pd\n",
    "import numpy as np \n",
    "from sklearn.feature_extraction.text import TfidfVectorizer\n",
    "from sklearn.preprocessing import MinMaxScaler\n",
    "from sklearn.metrics.pairwise import cosine_similarity\n",
    "from scipy.sparse import hstack\n",
    "from fuzzywuzzy import process\n",
    "import streamlit as st"
   ]
  },
  {
   "cell_type": "code",
   "execution_count": 3,
   "metadata": {},
   "outputs": [],
   "source": [
    "# Importing album data\n",
    "raw_data = pd.read_csv('rym_top_5000_all_time.csv')"
   ]
  },
  {
   "cell_type": "code",
   "execution_count": 4,
   "metadata": {},
   "outputs": [
    {
     "data": {
      "text/html": [
       "<div>\n",
       "<style scoped>\n",
       "    .dataframe tbody tr th:only-of-type {\n",
       "        vertical-align: middle;\n",
       "    }\n",
       "\n",
       "    .dataframe tbody tr th {\n",
       "        vertical-align: top;\n",
       "    }\n",
       "\n",
       "    .dataframe thead th {\n",
       "        text-align: right;\n",
       "    }\n",
       "</style>\n",
       "<table border=\"1\" class=\"dataframe\">\n",
       "  <thead>\n",
       "    <tr style=\"text-align: right;\">\n",
       "      <th></th>\n",
       "      <th>Ranking</th>\n",
       "      <th>Album</th>\n",
       "      <th>Artist Name</th>\n",
       "      <th>Release Date</th>\n",
       "      <th>Genres</th>\n",
       "      <th>Descriptors</th>\n",
       "      <th>Average Rating</th>\n",
       "      <th>Number of Ratings</th>\n",
       "      <th>Number of Reviews</th>\n",
       "    </tr>\n",
       "  </thead>\n",
       "  <tbody>\n",
       "    <tr>\n",
       "      <th>0</th>\n",
       "      <td>1.0</td>\n",
       "      <td>OK Computer</td>\n",
       "      <td>Radiohead</td>\n",
       "      <td>16 June 1997</td>\n",
       "      <td>Alternative Rock, Art Rock</td>\n",
       "      <td>melancholic, anxious, futuristic, alienation, ...</td>\n",
       "      <td>4.23</td>\n",
       "      <td>70,382</td>\n",
       "      <td>1531</td>\n",
       "    </tr>\n",
       "    <tr>\n",
       "      <th>1</th>\n",
       "      <td>2.0</td>\n",
       "      <td>Wish You Were Here</td>\n",
       "      <td>Pink Floyd</td>\n",
       "      <td>12 September 1975</td>\n",
       "      <td>Progressive Rock, Art Rock</td>\n",
       "      <td>melancholic, atmospheric, progressive, male vo...</td>\n",
       "      <td>4.29</td>\n",
       "      <td>48,662</td>\n",
       "      <td>983</td>\n",
       "    </tr>\n",
       "    <tr>\n",
       "      <th>2</th>\n",
       "      <td>3.0</td>\n",
       "      <td>In the Court of the Crimson King</td>\n",
       "      <td>King Crimson</td>\n",
       "      <td>10 October 1969</td>\n",
       "      <td>Progressive Rock, Art Rock</td>\n",
       "      <td>fantasy, epic, progressive, philosophical, com...</td>\n",
       "      <td>4.30</td>\n",
       "      <td>44,943</td>\n",
       "      <td>870</td>\n",
       "    </tr>\n",
       "    <tr>\n",
       "      <th>3</th>\n",
       "      <td>4.0</td>\n",
       "      <td>Kid A</td>\n",
       "      <td>Radiohead</td>\n",
       "      <td>3 October 2000</td>\n",
       "      <td>Art Rock, Experimental Rock, Electronic</td>\n",
       "      <td>cold, melancholic, futuristic, atmospheric, an...</td>\n",
       "      <td>4.21</td>\n",
       "      <td>58,590</td>\n",
       "      <td>734</td>\n",
       "    </tr>\n",
       "    <tr>\n",
       "      <th>4</th>\n",
       "      <td>5.0</td>\n",
       "      <td>To Pimp a Butterfly</td>\n",
       "      <td>Kendrick Lamar</td>\n",
       "      <td>15 March 2015</td>\n",
       "      <td>Conscious Hip Hop, West Coast Hip Hop, Jazz Rap</td>\n",
       "      <td>political, conscious, poetic, protest, concept...</td>\n",
       "      <td>4.27</td>\n",
       "      <td>44,206</td>\n",
       "      <td>379</td>\n",
       "    </tr>\n",
       "  </tbody>\n",
       "</table>\n",
       "</div>"
      ],
      "text/plain": [
       "   Ranking                             Album     Artist Name  \\\n",
       "0      1.0                       OK Computer       Radiohead   \n",
       "1      2.0                Wish You Were Here      Pink Floyd   \n",
       "2      3.0  In the Court of the Crimson King    King Crimson   \n",
       "3      4.0                             Kid A       Radiohead   \n",
       "4      5.0               To Pimp a Butterfly  Kendrick Lamar   \n",
       "\n",
       "        Release Date                                           Genres  \\\n",
       "0       16 June 1997                       Alternative Rock, Art Rock   \n",
       "1  12 September 1975                       Progressive Rock, Art Rock   \n",
       "2    10 October 1969                       Progressive Rock, Art Rock   \n",
       "3     3 October 2000          Art Rock, Experimental Rock, Electronic   \n",
       "4      15 March 2015  Conscious Hip Hop, West Coast Hip Hop, Jazz Rap   \n",
       "\n",
       "                                         Descriptors  Average Rating  \\\n",
       "0  melancholic, anxious, futuristic, alienation, ...            4.23   \n",
       "1  melancholic, atmospheric, progressive, male vo...            4.29   \n",
       "2  fantasy, epic, progressive, philosophical, com...            4.30   \n",
       "3  cold, melancholic, futuristic, atmospheric, an...            4.21   \n",
       "4  political, conscious, poetic, protest, concept...            4.27   \n",
       "\n",
       "  Number of Ratings  Number of Reviews  \n",
       "0            70,382               1531  \n",
       "1            48,662                983  \n",
       "2            44,943                870  \n",
       "3            58,590                734  \n",
       "4            44,206                379  "
      ]
     },
     "execution_count": 4,
     "metadata": {},
     "output_type": "execute_result"
    }
   ],
   "source": [
    "# View first 5 rows\n",
    "raw_data.head()"
   ]
  },
  {
   "cell_type": "code",
   "execution_count": null,
   "metadata": {},
   "outputs": [
    {
     "name": "stdout",
     "output_type": "stream",
     "text": [
      "<class 'pandas.core.frame.DataFrame'>\n",
      "RangeIndex: 5000 entries, 0 to 4999\n",
      "Data columns (total 9 columns):\n",
      " #   Column             Non-Null Count  Dtype  \n",
      "---  ------             --------------  -----  \n",
      " 0   Ranking            5000 non-null   float64\n",
      " 1   Album              5000 non-null   object \n",
      " 2   Artist Name        5000 non-null   object \n",
      " 3   Release Date       5000 non-null   object \n",
      " 4   Genres             5000 non-null   object \n",
      " 5   Descriptors        4886 non-null   object \n",
      " 6   Average Rating     5000 non-null   float64\n",
      " 7   Number of Ratings  5000 non-null   object \n",
      " 8   Number of Reviews  5000 non-null   int64  \n",
      "dtypes: float64(2), int64(1), object(6)\n",
      "memory usage: 351.7+ KB\n"
     ]
    }
   ],
   "source": [
    "# View information about dataset - 'Descriptors' has missing values\n",
    "raw_data.info()"
   ]
  },
  {
   "cell_type": "code",
   "execution_count": null,
   "metadata": {},
   "outputs": [
    {
     "data": {
      "text/plain": [
       "np.int64(0)"
      ]
     },
     "execution_count": 8,
     "metadata": {},
     "output_type": "execute_result"
    }
   ],
   "source": [
    "# The data has no duplicates\n",
    "raw_data.duplicated().sum()"
   ]
  },
  {
   "cell_type": "code",
   "execution_count": null,
   "metadata": {},
   "outputs": [
    {
     "name": "stdout",
     "output_type": "stream",
     "text": [
      "<class 'pandas.core.frame.DataFrame'>\n",
      "Index: 4886 entries, 0 to 4999\n",
      "Data columns (total 9 columns):\n",
      " #   Column             Non-Null Count  Dtype  \n",
      "---  ------             --------------  -----  \n",
      " 0   Ranking            4886 non-null   float64\n",
      " 1   Album              4886 non-null   object \n",
      " 2   Artist Name        4886 non-null   object \n",
      " 3   Release Date       4886 non-null   object \n",
      " 4   Genres             4886 non-null   object \n",
      " 5   Descriptors        4886 non-null   object \n",
      " 6   Average Rating     4886 non-null   float64\n",
      " 7   Number of Ratings  4886 non-null   object \n",
      " 8   Number of Reviews  4886 non-null   int64  \n",
      "dtypes: float64(2), int64(1), object(6)\n",
      "memory usage: 381.7+ KB\n"
     ]
    }
   ],
   "source": [
    "# Remove missing values \n",
    "cleaned_data = raw_data.dropna().copy()\n",
    "cleaned_data.info()"
   ]
  },
  {
   "cell_type": "code",
   "execution_count": null,
   "metadata": {},
   "outputs": [
    {
     "data": {
      "text/html": [
       "<div>\n",
       "<style scoped>\n",
       "    .dataframe tbody tr th:only-of-type {\n",
       "        vertical-align: middle;\n",
       "    }\n",
       "\n",
       "    .dataframe tbody tr th {\n",
       "        vertical-align: top;\n",
       "    }\n",
       "\n",
       "    .dataframe thead th {\n",
       "        text-align: right;\n",
       "    }\n",
       "</style>\n",
       "<table border=\"1\" class=\"dataframe\">\n",
       "  <thead>\n",
       "    <tr style=\"text-align: right;\">\n",
       "      <th></th>\n",
       "      <th>Ranking</th>\n",
       "      <th>Album</th>\n",
       "      <th>Artist Name</th>\n",
       "      <th>Genres</th>\n",
       "      <th>Descriptors</th>\n",
       "      <th>Average Rating</th>\n",
       "      <th>Release Year</th>\n",
       "    </tr>\n",
       "  </thead>\n",
       "  <tbody>\n",
       "    <tr>\n",
       "      <th>0</th>\n",
       "      <td>1.0</td>\n",
       "      <td>OK Computer</td>\n",
       "      <td>Radiohead</td>\n",
       "      <td>Alternative Rock, Art Rock</td>\n",
       "      <td>melancholic, anxious, futuristic, alienation, ...</td>\n",
       "      <td>4.23</td>\n",
       "      <td>1997</td>\n",
       "    </tr>\n",
       "    <tr>\n",
       "      <th>1</th>\n",
       "      <td>2.0</td>\n",
       "      <td>Wish You Were Here</td>\n",
       "      <td>Pink Floyd</td>\n",
       "      <td>Progressive Rock, Art Rock</td>\n",
       "      <td>melancholic, atmospheric, progressive, male vo...</td>\n",
       "      <td>4.29</td>\n",
       "      <td>1975</td>\n",
       "    </tr>\n",
       "    <tr>\n",
       "      <th>2</th>\n",
       "      <td>3.0</td>\n",
       "      <td>In the Court of the Crimson King</td>\n",
       "      <td>King Crimson</td>\n",
       "      <td>Progressive Rock, Art Rock</td>\n",
       "      <td>fantasy, epic, progressive, philosophical, com...</td>\n",
       "      <td>4.30</td>\n",
       "      <td>1969</td>\n",
       "    </tr>\n",
       "    <tr>\n",
       "      <th>3</th>\n",
       "      <td>4.0</td>\n",
       "      <td>Kid A</td>\n",
       "      <td>Radiohead</td>\n",
       "      <td>Art Rock, Experimental Rock, Electronic</td>\n",
       "      <td>cold, melancholic, futuristic, atmospheric, an...</td>\n",
       "      <td>4.21</td>\n",
       "      <td>2000</td>\n",
       "    </tr>\n",
       "    <tr>\n",
       "      <th>4</th>\n",
       "      <td>5.0</td>\n",
       "      <td>To Pimp a Butterfly</td>\n",
       "      <td>Kendrick Lamar</td>\n",
       "      <td>Conscious Hip Hop, West Coast Hip Hop, Jazz Rap</td>\n",
       "      <td>political, conscious, poetic, protest, concept...</td>\n",
       "      <td>4.27</td>\n",
       "      <td>2015</td>\n",
       "    </tr>\n",
       "  </tbody>\n",
       "</table>\n",
       "</div>"
      ],
      "text/plain": [
       "   Ranking                             Album     Artist Name  \\\n",
       "0      1.0                       OK Computer       Radiohead   \n",
       "1      2.0                Wish You Were Here      Pink Floyd   \n",
       "2      3.0  In the Court of the Crimson King    King Crimson   \n",
       "3      4.0                             Kid A       Radiohead   \n",
       "4      5.0               To Pimp a Butterfly  Kendrick Lamar   \n",
       "\n",
       "                                            Genres  \\\n",
       "0                       Alternative Rock, Art Rock   \n",
       "1                       Progressive Rock, Art Rock   \n",
       "2                       Progressive Rock, Art Rock   \n",
       "3          Art Rock, Experimental Rock, Electronic   \n",
       "4  Conscious Hip Hop, West Coast Hip Hop, Jazz Rap   \n",
       "\n",
       "                                         Descriptors  Average Rating  \\\n",
       "0  melancholic, anxious, futuristic, alienation, ...            4.23   \n",
       "1  melancholic, atmospheric, progressive, male vo...            4.29   \n",
       "2  fantasy, epic, progressive, philosophical, com...            4.30   \n",
       "3  cold, melancholic, futuristic, atmospheric, an...            4.21   \n",
       "4  political, conscious, poetic, protest, concept...            4.27   \n",
       "\n",
       "   Release Year  \n",
       "0          1997  \n",
       "1          1975  \n",
       "2          1969  \n",
       "3          2000  \n",
       "4          2015  "
      ]
     },
     "execution_count": 6,
     "metadata": {},
     "output_type": "execute_result"
    }
   ],
   "source": [
    "# Create 'Release Year' variable \n",
    "cleaned_data['Release Year'] = cleaned_data['Release Date'].astype(str).str[-4:].astype(int)\n",
    "cleaned_data.drop(['Release Date', 'Number of Ratings', 'Number of Reviews'], axis=1, inplace=True)\n",
    "cleaned_data.head()"
   ]
  },
  {
   "cell_type": "code",
   "execution_count": null,
   "metadata": {},
   "outputs": [],
   "source": [
    "# Create feature vectors from categorical features 'Genres' and 'Descriptors'\n",
    "initialise_tfidf_genres = TfidfVectorizer()\n",
    "genres_tfidf = initialise_tfidf_genres.fit_transform(cleaned_data['Genres'])\n",
    "\n",
    "initialise_tfidf_descriptors = TfidfVectorizer()\n",
    "descriptors_tfidf = initialise_tfidf_descriptors.fit_transform(cleaned_data['Descriptors'])\n",
    "\n",
    "categorical_features = hstack((genres_tfidf, descriptors_tfidf))"
   ]
  },
  {
   "cell_type": "code",
   "execution_count": null,
   "metadata": {},
   "outputs": [],
   "source": [
    "# Filter and scale numerical features between 0 and 1 \n",
    "numerical_features = cleaned_data[['Average Rating', 'Release Year']]\n",
    "scaler = MinMaxScaler()\n",
    "scaled_numerical_features = scaler.fit_transform(numerical_features)"
   ]
  },
  {
   "cell_type": "code",
   "execution_count": null,
   "metadata": {},
   "outputs": [],
   "source": [
    "# Horizontally stack (add columns) the categorical and numerical features \n",
    "combined_features = hstack((categorical_features, scaled_numerical_features))\n",
    "\n",
    "# Compute the cosine similarity matrix \n",
    "# Cosine similarity is used instead of Euclidean distance (typical for numerical features) and Jaccard index (typical for categorical features)\n",
    "# due to its suitability for sparse, TF-IDF comparisons\n",
    "similarity_matrix = cosine_similarity(combined_features, combined_features)"
   ]
  },
  {
   "cell_type": "code",
   "execution_count": null,
   "metadata": {},
   "outputs": [],
   "source": [
    "# ML-based album recommender function based on genre, descriptors, average rating, and release year \n",
    "def recommend_albums(album_name, no_recs=5):    \n",
    "        # Gets the row index of the album that matches the entered album name \n",
    "        album_idx = cleaned_data[cleaned_data['Album'] == album_name].index[0]\n",
    "\n",
    "        # Lists the similarity scores between that index and every other album in tuples & in order of albums \n",
    "        # E.g. (0, 0.9) means the user specified album has a cosine similarity 0.9 with album 1\n",
    "        similarity_scores = list(enumerate(similarity_matrix[album_idx]))\n",
    "\n",
    "        # Sorts the list of tuples based on their second item in descending order, skipping the user album itself \n",
    "        sorted_similar_albums = sorted(similarity_scores, key=lambda x: x[1], reverse=True)[1:no_recs+1]\n",
    "\n",
    "        # Loop through i tuples with the highest similarity and retrieve the album name, genre, and descriptors from 'cleaned_data' \n",
    "        recommended_albums = [\n",
    "        {\n",
    "            'Album': cleaned_data.iloc[i[0]]['Album'],\n",
    "            'Genre': cleaned_data.iloc[i[0]]['Genres'],\n",
    "            'Descriptors': cleaned_data.iloc[i[0]]['Descriptors']\n",
    "        }\n",
    "        for i in sorted_similar_albums]\n",
    "        \n",
    "        return recommended_albums"
   ]
  },
  {
   "cell_type": "code",
   "execution_count": null,
   "metadata": {},
   "outputs": [],
   "source": [
    "# Simpler album recommender function based on genres\n",
    "def recommend_albums_genre_version(genre, no_recs=5):\n",
    "\n",
    "    filtered_albums = cleaned_data[cleaned_data['Genres'].str.contains(genre, case=False, na=False)].copy()\n",
    "\n",
    "    top_albums_by_genre = filtered_albums.sort_values(by=\"Average Rating\", ascending=False).head(no_recs)\n",
    "\n",
    "    recommended_albums_by_genre = [\n",
    "        {\n",
    "            'Album': cleaned_data.iloc[i[0]]['Album'],\n",
    "            'Genre': cleaned_data.iloc[i[0]]['Genres'],\n",
    "            'Descriptors': cleaned_data.iloc[i[0]]['Descriptors']\n",
    "        }\n",
    "        for i in top_albums_by_genre]"
   ]
  }
 ],
 "metadata": {
  "kernelspec": {
   "display_name": "Python 3",
   "language": "python",
   "name": "python3"
  },
  "language_info": {
   "codemirror_mode": {
    "name": "ipython",
    "version": 3
   },
   "file_extension": ".py",
   "mimetype": "text/x-python",
   "name": "python",
   "nbconvert_exporter": "python",
   "pygments_lexer": "ipython3",
   "version": "3.12.6"
  }
 },
 "nbformat": 4,
 "nbformat_minor": 2
}
